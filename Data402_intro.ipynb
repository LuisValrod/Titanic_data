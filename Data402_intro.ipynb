{
 "cells": [
  {
   "cell_type": "markdown",
   "id": "24b042f5-72f2-42fc-a0d1-e7f4b4bf0c88",
   "metadata": {},
   "source": [
    "# Pandas and numpy intro"
   ]
  },
  {
   "cell_type": "markdown",
   "id": "87bc01bf-7269-494b-88c3-94d514c9578c",
   "metadata": {},
   "source": [
    "This will be a quick intro"
   ]
  },
  {
   "cell_type": "code",
   "execution_count": 3,
   "id": "7809d590-b13f-48d0-9c8c-79ecc11cab43",
   "metadata": {},
   "outputs": [],
   "source": [
    "import numpy as np\n",
    "import pandas as pd"
   ]
  },
  {
   "cell_type": "code",
   "execution_count": 31,
   "id": "d09320de-46c8-4232-a9b8-986a60b2bf56",
   "metadata": {},
   "outputs": [
    {
     "data": {
      "text/plain": [
       "a    0.0\n",
       "b    0.0\n",
       "c    0.0\n",
       "d    0.0\n",
       "e    0.0\n",
       "dtype: float64"
      ]
     },
     "execution_count": 31,
     "metadata": {},
     "output_type": "execute_result"
    }
   ],
   "source": [
    "new_x = pd.Series(np.zeros(5), index=['a','b','c','d','e'])\n",
    "new_x"
   ]
  },
  {
   "cell_type": "code",
   "execution_count": 32,
   "id": "bc05ceeb-4f88-453d-a70d-15aa54b8e2af",
   "metadata": {},
   "outputs": [
    {
     "data": {
      "text/plain": [
       "a    False\n",
       "b    False\n",
       "c    False\n",
       "d    False\n",
       "e    False\n",
       "dtype: bool"
      ]
     },
     "execution_count": 32,
     "metadata": {},
     "output_type": "execute_result"
    }
   ],
   "source": [
    "np.isnan(new_x)"
   ]
  },
  {
   "cell_type": "code",
   "execution_count": 35,
   "id": "dc5023ee-05b0-4531-a03a-cedcb94fe604",
   "metadata": {},
   "outputs": [
    {
     "data": {
      "text/html": [
       "<div>\n",
       "<style scoped>\n",
       "    .dataframe tbody tr th:only-of-type {\n",
       "        vertical-align: middle;\n",
       "    }\n",
       "\n",
       "    .dataframe tbody tr th {\n",
       "        vertical-align: top;\n",
       "    }\n",
       "\n",
       "    .dataframe thead th {\n",
       "        text-align: right;\n",
       "    }\n",
       "</style>\n",
       "<table border=\"1\" class=\"dataframe\">\n",
       "  <thead>\n",
       "    <tr style=\"text-align: right;\">\n",
       "      <th></th>\n",
       "      <th>0</th>\n",
       "      <th>1</th>\n",
       "      <th>2</th>\n",
       "      <th>3</th>\n",
       "      <th>4</th>\n",
       "    </tr>\n",
       "  </thead>\n",
       "  <tbody>\n",
       "    <tr>\n",
       "      <th>0</th>\n",
       "      <td>1.0</td>\n",
       "      <td>0.0</td>\n",
       "      <td>0.0</td>\n",
       "      <td>0.0</td>\n",
       "      <td>0.0</td>\n",
       "    </tr>\n",
       "    <tr>\n",
       "      <th>1</th>\n",
       "      <td>0.0</td>\n",
       "      <td>1.0</td>\n",
       "      <td>0.0</td>\n",
       "      <td>0.0</td>\n",
       "      <td>0.0</td>\n",
       "    </tr>\n",
       "    <tr>\n",
       "      <th>2</th>\n",
       "      <td>0.0</td>\n",
       "      <td>0.0</td>\n",
       "      <td>1.0</td>\n",
       "      <td>0.0</td>\n",
       "      <td>0.0</td>\n",
       "    </tr>\n",
       "    <tr>\n",
       "      <th>3</th>\n",
       "      <td>0.0</td>\n",
       "      <td>0.0</td>\n",
       "      <td>0.0</td>\n",
       "      <td>1.0</td>\n",
       "      <td>0.0</td>\n",
       "    </tr>\n",
       "    <tr>\n",
       "      <th>4</th>\n",
       "      <td>0.0</td>\n",
       "      <td>0.0</td>\n",
       "      <td>0.0</td>\n",
       "      <td>0.0</td>\n",
       "      <td>1.0</td>\n",
       "    </tr>\n",
       "  </tbody>\n",
       "</table>\n",
       "</div>"
      ],
      "text/plain": [
       "     0    1    2    3    4\n",
       "0  1.0  0.0  0.0  0.0  0.0\n",
       "1  0.0  1.0  0.0  0.0  0.0\n",
       "2  0.0  0.0  1.0  0.0  0.0\n",
       "3  0.0  0.0  0.0  1.0  0.0\n",
       "4  0.0  0.0  0.0  0.0  1.0"
      ]
     },
     "execution_count": 35,
     "metadata": {},
     "output_type": "execute_result"
    }
   ],
   "source": [
    "data= pd.DataFrame(np.eye(5,5))\n",
    "data"
   ]
  },
  {
   "cell_type": "code",
   "execution_count": 36,
   "id": "f4367cc2-7253-4101-9f41-eed91dafa8ef",
   "metadata": {},
   "outputs": [],
   "source": [
    "data1 =[['a', 10], ['b',20],['c',30]]"
   ]
  },
  {
   "cell_type": "code",
   "execution_count": 40,
   "id": "d541bbe9-a26e-4374-a832-2179aed39700",
   "metadata": {},
   "outputs": [
    {
     "data": {
      "text/html": [
       "<div>\n",
       "<style scoped>\n",
       "    .dataframe tbody tr th:only-of-type {\n",
       "        vertical-align: middle;\n",
       "    }\n",
       "\n",
       "    .dataframe tbody tr th {\n",
       "        vertical-align: top;\n",
       "    }\n",
       "\n",
       "    .dataframe thead th {\n",
       "        text-align: right;\n",
       "    }\n",
       "</style>\n",
       "<table border=\"1\" class=\"dataframe\">\n",
       "  <thead>\n",
       "    <tr style=\"text-align: right;\">\n",
       "      <th></th>\n",
       "      <th>Name</th>\n",
       "      <th>Score</th>\n",
       "    </tr>\n",
       "  </thead>\n",
       "  <tbody>\n",
       "    <tr>\n",
       "      <th>0</th>\n",
       "      <td>a</td>\n",
       "      <td>10</td>\n",
       "    </tr>\n",
       "    <tr>\n",
       "      <th>1</th>\n",
       "      <td>b</td>\n",
       "      <td>20</td>\n",
       "    </tr>\n",
       "    <tr>\n",
       "      <th>2</th>\n",
       "      <td>c</td>\n",
       "      <td>30</td>\n",
       "    </tr>\n",
       "  </tbody>\n",
       "</table>\n",
       "</div>"
      ],
      "text/plain": [
       "  Name  Score\n",
       "0    a     10\n",
       "1    b     20\n",
       "2    c     30"
      ]
     },
     "execution_count": 40,
     "metadata": {},
     "output_type": "execute_result"
    }
   ],
   "source": [
    "df2=pd.DataFrame(data1,columns=['Name','Score'])\n",
    "df2"
   ]
  },
  {
   "cell_type": "code",
   "execution_count": 41,
   "id": "df52d2b2-f4c2-44df-a273-fe309456a3ed",
   "metadata": {},
   "outputs": [
    {
     "data": {
      "text/html": [
       "<div>\n",
       "<style scoped>\n",
       "    .dataframe tbody tr th:only-of-type {\n",
       "        vertical-align: middle;\n",
       "    }\n",
       "\n",
       "    .dataframe tbody tr th {\n",
       "        vertical-align: top;\n",
       "    }\n",
       "\n",
       "    .dataframe thead th {\n",
       "        text-align: right;\n",
       "    }\n",
       "</style>\n",
       "<table border=\"1\" class=\"dataframe\">\n",
       "  <thead>\n",
       "    <tr style=\"text-align: right;\">\n",
       "      <th></th>\n",
       "      <th>Title</th>\n",
       "      <th>firstName</th>\n",
       "      <th>lastName</th>\n",
       "      <th>gender</th>\n",
       "      <th>email</th>\n",
       "    </tr>\n",
       "  </thead>\n",
       "  <tbody>\n",
       "    <tr>\n",
       "      <th>0</th>\n",
       "      <td>Honorable</td>\n",
       "      <td>Alasdair</td>\n",
       "      <td>Beeckx</td>\n",
       "      <td>Male</td>\n",
       "      <td>abeeckx0@un.org</td>\n",
       "    </tr>\n",
       "    <tr>\n",
       "      <th>1</th>\n",
       "      <td>Dr</td>\n",
       "      <td>Saunder</td>\n",
       "      <td>Murname</td>\n",
       "      <td>Male</td>\n",
       "      <td>smurname1@ftc.gov</td>\n",
       "    </tr>\n",
       "    <tr>\n",
       "      <th>2</th>\n",
       "      <td>Honorable</td>\n",
       "      <td>Julissa</td>\n",
       "      <td>Spriddle</td>\n",
       "      <td>Female</td>\n",
       "      <td>jspriddle2@chicagotribune.com</td>\n",
       "    </tr>\n",
       "    <tr>\n",
       "      <th>3</th>\n",
       "      <td>Rev</td>\n",
       "      <td>Bernadene</td>\n",
       "      <td>Peak</td>\n",
       "      <td>Female</td>\n",
       "      <td>bpeak3@fc2.com</td>\n",
       "    </tr>\n",
       "    <tr>\n",
       "      <th>4</th>\n",
       "      <td>Mrs</td>\n",
       "      <td>Cass</td>\n",
       "      <td>Bernardeschi</td>\n",
       "      <td>Male</td>\n",
       "      <td>cbernardeschi4@technorati.com</td>\n",
       "    </tr>\n",
       "    <tr>\n",
       "      <th>5</th>\n",
       "      <td>Honorable</td>\n",
       "      <td>Aggi</td>\n",
       "      <td>Lipson</td>\n",
       "      <td>Female</td>\n",
       "      <td>alipson5@ucoz.ru</td>\n",
       "    </tr>\n",
       "    <tr>\n",
       "      <th>6</th>\n",
       "      <td>Ms</td>\n",
       "      <td>Trescha</td>\n",
       "      <td>Damato</td>\n",
       "      <td>Female</td>\n",
       "      <td>tdamato6@skyrock.com</td>\n",
       "    </tr>\n",
       "    <tr>\n",
       "      <th>7</th>\n",
       "      <td>Dr</td>\n",
       "      <td>Dav</td>\n",
       "      <td>Headon</td>\n",
       "      <td>Male</td>\n",
       "      <td>dheadon7@ted.com</td>\n",
       "    </tr>\n",
       "    <tr>\n",
       "      <th>8</th>\n",
       "      <td>Honorable</td>\n",
       "      <td>Nealson</td>\n",
       "      <td>Janeway</td>\n",
       "      <td>Male</td>\n",
       "      <td>njaneway8@360.cn</td>\n",
       "    </tr>\n",
       "    <tr>\n",
       "      <th>9</th>\n",
       "      <td>Mrs</td>\n",
       "      <td>Laney</td>\n",
       "      <td>Trobey</td>\n",
       "      <td>Female</td>\n",
       "      <td>ltrobey9@eventbrite.com</td>\n",
       "    </tr>\n",
       "  </tbody>\n",
       "</table>\n",
       "</div>"
      ],
      "text/plain": [
       "       Title  firstName      lastName  gender                          email\n",
       "0  Honorable   Alasdair        Beeckx    Male                abeeckx0@un.org\n",
       "1         Dr    Saunder       Murname    Male              smurname1@ftc.gov\n",
       "2  Honorable    Julissa      Spriddle  Female  jspriddle2@chicagotribune.com\n",
       "3        Rev  Bernadene          Peak  Female                 bpeak3@fc2.com\n",
       "4        Mrs       Cass  Bernardeschi    Male  cbernardeschi4@technorati.com\n",
       "5  Honorable       Aggi        Lipson  Female               alipson5@ucoz.ru\n",
       "6         Ms    Trescha        Damato  Female           tdamato6@skyrock.com\n",
       "7         Dr        Dav        Headon    Male               dheadon7@ted.com\n",
       "8  Honorable    Nealson       Janeway    Male               njaneway8@360.cn\n",
       "9        Mrs      Laney        Trobey  Female        ltrobey9@eventbrite.com"
      ]
     },
     "execution_count": 41,
     "metadata": {},
     "output_type": "execute_result"
    }
   ],
   "source": [
    "user_details = pd.read_csv('../user_details.csv')\n",
    "user_details"
   ]
  },
  {
   "cell_type": "code",
   "execution_count": 43,
   "id": "b9f6aaa7-6f85-41cd-b3cc-d40e0dc721f1",
   "metadata": {},
   "outputs": [
    {
     "data": {
      "text/html": [
       "<div>\n",
       "<style scoped>\n",
       "    .dataframe tbody tr th:only-of-type {\n",
       "        vertical-align: middle;\n",
       "    }\n",
       "\n",
       "    .dataframe tbody tr th {\n",
       "        vertical-align: top;\n",
       "    }\n",
       "\n",
       "    .dataframe thead th {\n",
       "        text-align: right;\n",
       "    }\n",
       "</style>\n",
       "<table border=\"1\" class=\"dataframe\">\n",
       "  <thead>\n",
       "    <tr style=\"text-align: right;\">\n",
       "      <th></th>\n",
       "      <th>Title</th>\n",
       "      <th>firstName</th>\n",
       "      <th>lastName</th>\n",
       "      <th>gender</th>\n",
       "      <th>email</th>\n",
       "    </tr>\n",
       "  </thead>\n",
       "  <tbody>\n",
       "    <tr>\n",
       "      <th>0</th>\n",
       "      <td>Honorable</td>\n",
       "      <td>Alasdair</td>\n",
       "      <td>Beeckx</td>\n",
       "      <td>Male</td>\n",
       "      <td>abeeckx0@un.org</td>\n",
       "    </tr>\n",
       "    <tr>\n",
       "      <th>1</th>\n",
       "      <td>Dr</td>\n",
       "      <td>Saunder</td>\n",
       "      <td>Murname</td>\n",
       "      <td>Male</td>\n",
       "      <td>smurname1@ftc.gov</td>\n",
       "    </tr>\n",
       "    <tr>\n",
       "      <th>4</th>\n",
       "      <td>Mrs</td>\n",
       "      <td>Cass</td>\n",
       "      <td>Bernardeschi</td>\n",
       "      <td>Male</td>\n",
       "      <td>cbernardeschi4@technorati.com</td>\n",
       "    </tr>\n",
       "    <tr>\n",
       "      <th>7</th>\n",
       "      <td>Dr</td>\n",
       "      <td>Dav</td>\n",
       "      <td>Headon</td>\n",
       "      <td>Male</td>\n",
       "      <td>dheadon7@ted.com</td>\n",
       "    </tr>\n",
       "    <tr>\n",
       "      <th>8</th>\n",
       "      <td>Honorable</td>\n",
       "      <td>Nealson</td>\n",
       "      <td>Janeway</td>\n",
       "      <td>Male</td>\n",
       "      <td>njaneway8@360.cn</td>\n",
       "    </tr>\n",
       "  </tbody>\n",
       "</table>\n",
       "</div>"
      ],
      "text/plain": [
       "       Title firstName      lastName gender                          email\n",
       "0  Honorable  Alasdair        Beeckx   Male                abeeckx0@un.org\n",
       "1         Dr   Saunder       Murname   Male              smurname1@ftc.gov\n",
       "4        Mrs      Cass  Bernardeschi   Male  cbernardeschi4@technorati.com\n",
       "7         Dr       Dav        Headon   Male               dheadon7@ted.com\n",
       "8  Honorable   Nealson       Janeway   Male               njaneway8@360.cn"
      ]
     },
     "execution_count": 43,
     "metadata": {},
     "output_type": "execute_result"
    }
   ],
   "source": [
    "user_details[user_details['gender']== 'Male']"
   ]
  },
  {
   "cell_type": "code",
   "execution_count": 47,
   "id": "dc115512-7e1c-4da8-9cf2-363011770be3",
   "metadata": {},
   "outputs": [
    {
     "data": {
      "text/plain": [
       "0    False\n",
       "1    False\n",
       "2    False\n",
       "3    False\n",
       "4    False\n",
       "5    False\n",
       "6    False\n",
       "7    False\n",
       "8    False\n",
       "9    False\n",
       "dtype: bool"
      ]
     },
     "execution_count": 47,
     "metadata": {},
     "output_type": "execute_result"
    }
   ],
   "source": [
    "user_details.duplicated()"
   ]
  },
  {
   "cell_type": "code",
   "execution_count": 56,
   "id": "3a271579-91fb-4d81-939b-abe897033d1a",
   "metadata": {},
   "outputs": [
    {
     "data": {
      "text/plain": [
       "0    Honorable\n",
       "1           Dr\n",
       "2    Honorable\n",
       "3          Rev\n",
       "4          Mrs\n",
       "5    Honorable\n",
       "6           Ms\n",
       "7           Dr\n",
       "8    Honorable\n",
       "9          Mrs\n",
       "Name: Title, dtype: object"
      ]
     },
     "execution_count": 56,
     "metadata": {},
     "output_type": "execute_result"
    }
   ],
   "source": [
    "user_details['Title']"
   ]
  },
  {
   "cell_type": "code",
   "execution_count": null,
   "id": "b5bce13d-a035-49df-9805-134d2fad1cbc",
   "metadata": {},
   "outputs": [],
   "source": []
  },
  {
   "cell_type": "code",
   "execution_count": null,
   "id": "f10cf604-ea37-4d16-a4ac-b2afc3399fb6",
   "metadata": {},
   "outputs": [],
   "source": []
  },
  {
   "cell_type": "code",
   "execution_count": null,
   "id": "39faee4f-8bb5-4785-857c-7d0608daf987",
   "metadata": {},
   "outputs": [],
   "source": []
  }
 ],
 "metadata": {
  "kernelspec": {
   "display_name": "Python 3 (ipykernel)",
   "language": "python",
   "name": "python3"
  },
  "language_info": {
   "codemirror_mode": {
    "name": "ipython",
    "version": 3
   },
   "file_extension": ".py",
   "mimetype": "text/x-python",
   "name": "python",
   "nbconvert_exporter": "python",
   "pygments_lexer": "ipython3",
   "version": "3.11.7"
  }
 },
 "nbformat": 4,
 "nbformat_minor": 5
}
